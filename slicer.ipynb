{
 "cells": [
  {
   "cell_type": "code",
   "execution_count": 1,
   "id": "601de7a3",
   "metadata": {},
   "outputs": [],
   "source": [
    "import pandas as pd\n",
    "from tqdm import tqdm\n",
    "import math"
   ]
  },
  {
   "cell_type": "code",
   "execution_count": 2,
   "id": "abb751b2",
   "metadata": {},
   "outputs": [
    {
     "data": {
      "text/plain": [
       "(31788324, 5)"
      ]
     },
     "execution_count": 2,
     "metadata": {},
     "output_type": "execute_result"
    }
   ],
   "source": [
    "trans = pd.read_csv(\"transactions_train.csv\")\n",
    "trans.shape # (31788324, 5) huge traning set"
   ]
  },
  {
   "cell_type": "markdown",
   "id": "24eb4fbd",
   "metadata": {},
   "source": [
    "# Slicer Function\n",
    "\n",
    "The original transactions file (\"transactions_train.csv\") was too big to process (31788324 rows in total), so created this function to break it into 10 smaller consecutive chunks, with each of the new transactions files labeled \"transaction\" + \"1-10\" + \".csv\" in consecutive order."
   ]
  },
  {
   "cell_type": "code",
   "execution_count": 3,
   "id": "ba8b65e9",
   "metadata": {},
   "outputs": [
    {
     "data": {
      "text/html": [
       "<div>\n",
       "<style scoped>\n",
       "    .dataframe tbody tr th:only-of-type {\n",
       "        vertical-align: middle;\n",
       "    }\n",
       "\n",
       "    .dataframe tbody tr th {\n",
       "        vertical-align: top;\n",
       "    }\n",
       "\n",
       "    .dataframe thead th {\n",
       "        text-align: right;\n",
       "    }\n",
       "</style>\n",
       "<table border=\"1\" class=\"dataframe\">\n",
       "  <thead>\n",
       "    <tr style=\"text-align: right;\">\n",
       "      <th></th>\n",
       "      <th>t_dat</th>\n",
       "      <th>customer_id</th>\n",
       "      <th>article_id</th>\n",
       "      <th>price</th>\n",
       "      <th>sales_channel_id</th>\n",
       "    </tr>\n",
       "  </thead>\n",
       "  <tbody>\n",
       "    <tr>\n",
       "      <th>0</th>\n",
       "      <td>2018-09-20</td>\n",
       "      <td>000058a12d5b43e67d225668fa1f8d618c13dc232df0ca...</td>\n",
       "      <td>663713001</td>\n",
       "      <td>0.050831</td>\n",
       "      <td>2</td>\n",
       "    </tr>\n",
       "    <tr>\n",
       "      <th>1</th>\n",
       "      <td>2018-09-20</td>\n",
       "      <td>000058a12d5b43e67d225668fa1f8d618c13dc232df0ca...</td>\n",
       "      <td>541518023</td>\n",
       "      <td>0.030492</td>\n",
       "      <td>2</td>\n",
       "    </tr>\n",
       "    <tr>\n",
       "      <th>2</th>\n",
       "      <td>2018-09-20</td>\n",
       "      <td>00007d2de826758b65a93dd24ce629ed66842531df6699...</td>\n",
       "      <td>505221004</td>\n",
       "      <td>0.015237</td>\n",
       "      <td>2</td>\n",
       "    </tr>\n",
       "    <tr>\n",
       "      <th>3</th>\n",
       "      <td>2018-09-20</td>\n",
       "      <td>00007d2de826758b65a93dd24ce629ed66842531df6699...</td>\n",
       "      <td>685687003</td>\n",
       "      <td>0.016932</td>\n",
       "      <td>2</td>\n",
       "    </tr>\n",
       "    <tr>\n",
       "      <th>4</th>\n",
       "      <td>2018-09-20</td>\n",
       "      <td>00007d2de826758b65a93dd24ce629ed66842531df6699...</td>\n",
       "      <td>685687004</td>\n",
       "      <td>0.016932</td>\n",
       "      <td>2</td>\n",
       "    </tr>\n",
       "    <tr>\n",
       "      <th>...</th>\n",
       "      <td>...</td>\n",
       "      <td>...</td>\n",
       "      <td>...</td>\n",
       "      <td>...</td>\n",
       "      <td>...</td>\n",
       "    </tr>\n",
       "    <tr>\n",
       "      <th>10596103</th>\n",
       "      <td>2019-05-22</td>\n",
       "      <td>0eb428da277903ec2b2fc2fe9ea101464154a8e9cb4d6d...</td>\n",
       "      <td>685448004</td>\n",
       "      <td>0.025407</td>\n",
       "      <td>1</td>\n",
       "    </tr>\n",
       "    <tr>\n",
       "      <th>10596104</th>\n",
       "      <td>2019-05-22</td>\n",
       "      <td>0eb8ce0034aba4d5513fe8288b536661e95b4b7a511f97...</td>\n",
       "      <td>516859002</td>\n",
       "      <td>0.013542</td>\n",
       "      <td>1</td>\n",
       "    </tr>\n",
       "    <tr>\n",
       "      <th>10596105</th>\n",
       "      <td>2019-05-22</td>\n",
       "      <td>0eb8e191190c6d229a7f2b64c40e9f75c8029cc30d3c18...</td>\n",
       "      <td>568601006</td>\n",
       "      <td>0.038119</td>\n",
       "      <td>1</td>\n",
       "    </tr>\n",
       "    <tr>\n",
       "      <th>10596106</th>\n",
       "      <td>2019-05-22</td>\n",
       "      <td>0eb8e191190c6d229a7f2b64c40e9f75c8029cc30d3c18...</td>\n",
       "      <td>757613001</td>\n",
       "      <td>0.008458</td>\n",
       "      <td>1</td>\n",
       "    </tr>\n",
       "    <tr>\n",
       "      <th>10596107</th>\n",
       "      <td>2019-05-22</td>\n",
       "      <td>0eb9aea593c04e0e6d9523db6f9814ded05eafacac7855...</td>\n",
       "      <td>432566001</td>\n",
       "      <td>0.015153</td>\n",
       "      <td>1</td>\n",
       "    </tr>\n",
       "  </tbody>\n",
       "</table>\n",
       "<p>10596108 rows × 5 columns</p>\n",
       "</div>"
      ],
      "text/plain": [
       "               t_dat                                        customer_id  \\\n",
       "0         2018-09-20  000058a12d5b43e67d225668fa1f8d618c13dc232df0ca...   \n",
       "1         2018-09-20  000058a12d5b43e67d225668fa1f8d618c13dc232df0ca...   \n",
       "2         2018-09-20  00007d2de826758b65a93dd24ce629ed66842531df6699...   \n",
       "3         2018-09-20  00007d2de826758b65a93dd24ce629ed66842531df6699...   \n",
       "4         2018-09-20  00007d2de826758b65a93dd24ce629ed66842531df6699...   \n",
       "...              ...                                                ...   \n",
       "10596103  2019-05-22  0eb428da277903ec2b2fc2fe9ea101464154a8e9cb4d6d...   \n",
       "10596104  2019-05-22  0eb8ce0034aba4d5513fe8288b536661e95b4b7a511f97...   \n",
       "10596105  2019-05-22  0eb8e191190c6d229a7f2b64c40e9f75c8029cc30d3c18...   \n",
       "10596106  2019-05-22  0eb8e191190c6d229a7f2b64c40e9f75c8029cc30d3c18...   \n",
       "10596107  2019-05-22  0eb9aea593c04e0e6d9523db6f9814ded05eafacac7855...   \n",
       "\n",
       "          article_id     price  sales_channel_id  \n",
       "0          663713001  0.050831                 2  \n",
       "1          541518023  0.030492                 2  \n",
       "2          505221004  0.015237                 2  \n",
       "3          685687003  0.016932                 2  \n",
       "4          685687004  0.016932                 2  \n",
       "...              ...       ...               ...  \n",
       "10596103   685448004  0.025407                 1  \n",
       "10596104   516859002  0.013542                 1  \n",
       "10596105   568601006  0.038119                 1  \n",
       "10596106   757613001  0.008458                 1  \n",
       "10596107   432566001  0.015153                 1  \n",
       "\n",
       "[10596108 rows x 5 columns]"
      ]
     },
     "execution_count": 3,
     "metadata": {},
     "output_type": "execute_result"
    }
   ],
   "source": [
    "trans_subset = trans.iloc[0:math.floor(len(trans)/3),]\n",
    "trans_subset"
   ]
  },
  {
   "cell_type": "code",
   "execution_count": null,
   "id": "0e9c09d1",
   "metadata": {},
   "outputs": [],
   "source": [
    "section = math.floor(len(trans)/10)\n",
    "for i in tqdm(range(10)):\n",
    "    if i != 9:\n",
    "        trans_subset = trans.iloc[i*section:(i+1)*section,]\n",
    "    else:\n",
    "        trans_subset = trans.iloc[i*section:(i+1)*len(trans),]\n",
    "    string = \"transaction\" + str(i+1) + \".csv\"\n",
    "    trans_subset.to_csv(string)"
   ]
  }
 ],
 "metadata": {
  "kernelspec": {
   "display_name": "Python 3 (ipykernel)",
   "language": "python",
   "name": "python3"
  },
  "language_info": {
   "codemirror_mode": {
    "name": "ipython",
    "version": 3
   },
   "file_extension": ".py",
   "mimetype": "text/x-python",
   "name": "python",
   "nbconvert_exporter": "python",
   "pygments_lexer": "ipython3",
   "version": "3.9.7"
  }
 },
 "nbformat": 4,
 "nbformat_minor": 5
}
